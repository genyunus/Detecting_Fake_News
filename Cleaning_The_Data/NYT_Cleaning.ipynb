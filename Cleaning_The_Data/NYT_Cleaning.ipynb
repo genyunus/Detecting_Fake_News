{
 "cells": [
  {
   "cell_type": "markdown",
   "metadata": {},
   "source": [
    "<img src='New_York_Times_logo_variation.jpg'>\n",
    "<img src='NYT_WordCloud.jpg'>"
   ]
  },
  {
   "cell_type": "code",
   "execution_count": 1,
   "metadata": {
    "collapsed": false
   },
   "outputs": [
    {
     "name": "stderr",
     "output_type": "stream",
     "text": [
      "/Users/Yemre/anaconda/envs/dsi/lib/python2.7/site-packages/sklearn/cross_validation.py:44: DeprecationWarning: This module was deprecated in version 0.18 in favor of the model_selection module into which all the refactored classes and functions are moved. Also note that the interface of the new CV iterators are different from that of this module. This module will be removed in 0.20.\n",
      "  \"This module will be removed in 0.20.\", DeprecationWarning)\n"
     ]
    }
   ],
   "source": [
    "import pandas as pd\n",
    "import re\n",
    "import numpy as np\n",
    "from sklearn.utils import shuffle\n",
    "from sklearn.linear_model import LogisticRegression\n",
    "from sklearn.cross_validation import cross_val_score\n",
    "%matplotlib inline\n",
    "%config InlineBackend.figure_format = 'retina'"
   ]
  },
  {
   "cell_type": "code",
   "execution_count": 2,
   "metadata": {
    "collapsed": false
   },
   "outputs": [],
   "source": [
    "df1 = pd.read_csv(\"/Users/Yemre/Desktop/CapStone/NYT_Articles_.csv\")\n",
    "df2 = pd.read_csv(\"/Users/Yemre/Desktop/NYT_Article_Collections/New_Times_Last_SON_aprl_3.csv\")\n",
    "df3 = pd.read_csv(\"/Users/Yemre/Desktop/NYT_Article_Collections/New_Times_Last_SON_aprl_3_2nd.csv\")\n",
    "df4 = pd.read_csv(\"/Users/Yemre/Desktop/NYT_Article_Collections/New_Times_Last_SON_aprl_4.csv\")"
   ]
  },
  {
   "cell_type": "code",
   "execution_count": 3,
   "metadata": {
    "collapsed": false
   },
   "outputs": [],
   "source": [
    "df_all = pd.concat([df1,df2,df3,df4],axis=0,ignore_index=True).reset_index()"
   ]
  },
  {
   "cell_type": "code",
   "execution_count": 4,
   "metadata": {
    "collapsed": false
   },
   "outputs": [],
   "source": [
    "# Freeing some space\n",
    "del df1,df2,df3,df4"
   ]
  },
  {
   "cell_type": "code",
   "execution_count": 5,
   "metadata": {
    "collapsed": false
   },
   "outputs": [
    {
     "data": {
      "text/plain": [
       "Counter({'Arts': 816,\n",
       "         'Automobiles': 9,\n",
       "         'Books': 163,\n",
       "         'Briefing': 90,\n",
       "         'Business Day': 2222,\n",
       "         'Climate': 11,\n",
       "         'Corrections': 23,\n",
       "         'Crosswords & Games': 51,\n",
       "         'Fashion & Style': 196,\n",
       "         'Food': 111,\n",
       "         'Health': 78,\n",
       "         'Job Market': 6,\n",
       "         'Magazine': 30,\n",
       "         'Movies': 172,\n",
       "         'N.Y. / Region': 267,\n",
       "         'NYT Now': 16,\n",
       "         'Opinion': 612,\n",
       "         'Podcasts': 9,\n",
       "         'Public Editor': 6,\n",
       "         'Real Estate': 91,\n",
       "         'Science': 80,\n",
       "         'Sports': 2982,\n",
       "         'Style': 30,\n",
       "         'Sunday Review': 3,\n",
       "         'T Magazine': 42,\n",
       "         'Technology': 292,\n",
       "         'The Learning Network': 54,\n",
       "         'The Upshot': 32,\n",
       "         'Theater': 103,\n",
       "         'Times Insider': 71,\n",
       "         'Today\\x92s Paper': 6,\n",
       "         'Today\\xe2\\x80\\x99s Paper': 16,\n",
       "         'Travel': 26,\n",
       "         'U.S.': 5647,\n",
       "         'Universal': 1,\n",
       "         'Well': 38,\n",
       "         'World': 4566,\n",
       "         'Your Money': 29})"
      ]
     },
     "execution_count": 5,
     "metadata": {},
     "output_type": "execute_result"
    }
   ],
   "source": [
    "# Number of articles in each section\n",
    "df_all.section_name.value_counts()"
   ]
  },
  {
   "cell_type": "code",
   "execution_count": 6,
   "metadata": {
    "collapsed": true
   },
   "outputs": [],
   "source": [
    "# Getting only wanted sections\n",
    "df_all = df_all[(df_all.section_name == 'World') | (df_all.section_name == 'U.S.') | (df_all.section_name == 'Business Day')]"
   ]
  },
  {
   "cell_type": "code",
   "execution_count": 7,
   "metadata": {
    "collapsed": false
   },
   "outputs": [
    {
     "data": {
      "text/plain": [
       "(12435, 23)"
      ]
     },
     "execution_count": 7,
     "metadata": {},
     "output_type": "execute_result"
    }
   ],
   "source": [
    "df_all.shape"
   ]
  },
  {
   "cell_type": "code",
   "execution_count": 8,
   "metadata": {
    "collapsed": false
   },
   "outputs": [
    {
     "name": "stdout",
     "output_type": "stream",
     "text": [
      "Here is the  0 th item\n",
      "Here is the  500 th item\n",
      "Here is the  1000 th item\n",
      "Here is the  1500 th item\n",
      "Here is the  2000 th item\n",
      "Here is the  2500 th item\n",
      "Here is the  3000 th item\n",
      "Here is the  3500 th item\n",
      "Here is the  4000 th item\n",
      "Here is the  4500 th item\n",
      "Here is the  5000 th item\n",
      "Here is the  5500 th item\n",
      "Here is the  6000 th item\n",
      "Here is the  6500 th item\n",
      "Here is the  7000 th item\n",
      "Here is the  7500 th item\n",
      "Here is the  8000 th item\n",
      "Here is the  8500 th item\n",
      "Here is the  9000 th item\n",
      "Here is the  9500 th item\n",
      "Here is the  10000 th item\n",
      "Here is the  10500 th item\n",
      "Here is the  11000 th item\n",
      "Here is the  11500 th item\n",
      "Here is the  12000 th item\n"
     ]
    }
   ],
   "source": [
    "for idx, item in enumerate(df_all.body):\n",
    "    df_all.body[idx] = re.sub('[^\\x00-\\x7F]+', \"\", item)\n",
    "    if idx%500 == 0:\n",
    "        print 'Here is the ',idx,'th item'"
   ]
  },
  {
   "cell_type": "code",
   "execution_count": 212,
   "metadata": {
    "collapsed": false
   },
   "outputs": [
    {
     "name": "stderr",
     "output_type": "stream",
     "text": [
      "/Users/Yemre/anaconda/envs/dsi/lib/python2.7/site-packages/ipykernel/__main__.py:2: SettingWithCopyWarning: \n",
      "A value is trying to be set on a copy of a slice from a DataFrame\n",
      "\n",
      "See the caveats in the documentation: http://pandas.pydata.org/pandas-docs/stable/indexing.html#indexing-view-versus-copy\n",
      "  from ipykernel import kernelapp as app\n"
     ]
    },
    {
     "name": "stdout",
     "output_type": "stream",
     "text": [
      "Here is the  0 th item\n",
      "Here is the  500 th item\n",
      "Here is the  1000 th item\n",
      "Here is the  1500 th item\n",
      "Here is the  2000 th item\n",
      "Here is the  2500 th item\n",
      "Here is the  3000 th item\n",
      "Here is the  3500 th item\n",
      "Here is the  4000 th item\n",
      "Here is the  4500 th item\n",
      "Here is the  5000 th item\n",
      "Here is the  5500 th item\n",
      "Here is the  6000 th item\n",
      "Here is the  6500 th item\n",
      "Here is the  7000 th item\n",
      "Here is the  7500 th item\n",
      "Here is the  8000 th item\n",
      "Here is the  8500 th item\n",
      "Here is the  9000 th item\n",
      "Here is the  9500 th item\n",
      "Here is the  10000 th item\n",
      "Here is the  10500 th item\n",
      "Here is the  11000 th item\n",
      "Here is the  11500 th item\n",
      "Here is the  12000 th item\n"
     ]
    }
   ],
   "source": [
    "for idx,item in enumerate(df_all.head_clean):\n",
    "    df_all.head_clean[idx] = re.sub('[^\\x00-\\x7F]+', \"\", item)\n",
    "    if idx%500 == 0:\n",
    "        print 'Here is the ',idx,'th item'"
   ]
  },
  {
   "cell_type": "code",
   "execution_count": 8,
   "metadata": {
    "collapsed": false
   },
   "outputs": [
    {
     "name": "stdout",
     "output_type": "stream",
     "text": [
      "<class 'pandas.core.frame.DataFrame'>\n",
      "Int64Index: 12435 entries, 3 to 18995\n",
      "Data columns (total 23 columns):\n",
      "index                12435 non-null int64\n",
      "Unnamed: 0           12435 non-null int64\n",
      "_id                  12435 non-null object\n",
      "abstract             0 non-null float64\n",
      "blog                 12435 non-null object\n",
      "body                 12435 non-null object\n",
      "byline               12435 non-null object\n",
      "document_type        12435 non-null object\n",
      "headline             12435 non-null object\n",
      "keywords             12435 non-null object\n",
      "lead_paragraph       12430 non-null object\n",
      "multimedia           12435 non-null object\n",
      "news_desk            12435 non-null object\n",
      "print_page           12435 non-null int64\n",
      "pub_date             12435 non-null object\n",
      "section_name         12435 non-null object\n",
      "slideshow_credits    0 non-null float64\n",
      "snippet              12430 non-null object\n",
      "source               12435 non-null object\n",
      "subsection_name      6239 non-null object\n",
      "type_of_material     12435 non-null object\n",
      "web_url              12435 non-null object\n",
      "word_count           12435 non-null int64\n",
      "dtypes: float64(2), int64(4), object(17)\n",
      "memory usage: 2.3+ MB\n"
     ]
    }
   ],
   "source": [
    "df_all.info()"
   ]
  },
  {
   "cell_type": "code",
   "execution_count": 10,
   "metadata": {
    "collapsed": false
   },
   "outputs": [],
   "source": [
    "# Dropping unnecesary columns\n",
    "df_all = df_all.drop([\"index\"],axis=1)"
   ]
  },
  {
   "cell_type": "code",
   "execution_count": 11,
   "metadata": {
    "collapsed": false
   },
   "outputs": [],
   "source": [
    "df_all = df_all.reset_index()"
   ]
  },
  {
   "cell_type": "code",
   "execution_count": 12,
   "metadata": {
    "collapsed": false
   },
   "outputs": [
    {
     "data": {
      "text/plain": [
       "\"{u'main': u'Son of US Man Sought in Nazi Case Wants Evidence Released', u'print_headline': u'Son of US Man Sought in Nazi Case Wants Evidence Released'}\""
      ]
     },
     "execution_count": 12,
     "metadata": {},
     "output_type": "execute_result"
    }
   ],
   "source": [
    "df_all.headline[29]"
   ]
  },
  {
   "cell_type": "code",
   "execution_count": 16,
   "metadata": {
    "collapsed": false
   },
   "outputs": [],
   "source": [
    "# Dropping all the unwated columns\n",
    "df_all = df_all.drop([\"abstract\",\"blog\",\"byline\",\"document_type\",\"multimedia\",\"news_desk\",\"print_page\",\"slideshow_credits\",\"snippet\",\"subsection_name\",\"type_of_material\",\"web_url\",\"source\",\"Unnamed: 0\"],axis=1)"
   ]
  },
  {
   "cell_type": "code",
   "execution_count": 17,
   "metadata": {
    "collapsed": false
   },
   "outputs": [],
   "source": [
    "# Getting only needed main headline\n",
    "lst_head = []\n",
    "for idx,item in enumerate(df_all.headline): \n",
    "    lst_head.append(\" \".join(df_all.headline[idx].replace(\"'\",\"\").split(\",\")[0].split(\" \")[1:]))"
   ]
  },
  {
   "cell_type": "code",
   "execution_count": 18,
   "metadata": {
    "collapsed": true
   },
   "outputs": [],
   "source": [
    "df_all = df_all.drop([\"headline\"],axis=1)"
   ]
  },
  {
   "cell_type": "code",
   "execution_count": 19,
   "metadata": {
    "collapsed": false
   },
   "outputs": [],
   "source": [
    "df_all['head_clean'] = lst_head"
   ]
  },
  {
   "cell_type": "code",
   "execution_count": 21,
   "metadata": {
    "collapsed": true
   },
   "outputs": [],
   "source": [
    "df_all.dropna(inplace=True)"
   ]
  },
  {
   "cell_type": "code",
   "execution_count": 22,
   "metadata": {
    "collapsed": false
   },
   "outputs": [
    {
     "name": "stdout",
     "output_type": "stream",
     "text": [
      "<class 'pandas.core.frame.DataFrame'>\n",
      "Int64Index: 12430 entries, 0 to 12434\n",
      "Data columns (total 9 columns):\n",
      "index             12430 non-null int64\n",
      "_id               12430 non-null object\n",
      "body              12430 non-null object\n",
      "keywords          12430 non-null object\n",
      "lead_paragraph    12430 non-null object\n",
      "pub_date          12430 non-null object\n",
      "section_name      12430 non-null object\n",
      "word_count        12430 non-null int64\n",
      "head_clean        12430 non-null object\n",
      "dtypes: int64(2), object(7)\n",
      "memory usage: 971.1+ KB\n"
     ]
    }
   ],
   "source": [
    "df_all.info()"
   ]
  },
  {
   "cell_type": "code",
   "execution_count": 216,
   "metadata": {
    "collapsed": false
   },
   "outputs": [
    {
     "name": "stderr",
     "output_type": "stream",
     "text": [
      "/Users/Yemre/anaconda/envs/dsi/lib/python2.7/site-packages/ipykernel/__main__.py:2: SettingWithCopyWarning: \n",
      "A value is trying to be set on a copy of a slice from a DataFrame\n",
      "\n",
      "See the caveats in the documentation: http://pandas.pydata.org/pandas-docs/stable/indexing.html#indexing-view-versus-copy\n",
      "  from ipykernel import kernelapp as app\n"
     ]
    },
    {
     "name": "stdout",
     "output_type": "stream",
     "text": [
      "Here is the  0 th item\n",
      "Here is the  500 th item\n",
      "Here is the  1000 th item\n",
      "Here is the  1500 th item\n",
      "Here is the  2000 th item\n",
      "Here is the  2500 th item\n",
      "Here is the  3000 th item\n",
      "Here is the  3500 th item\n",
      "Here is the  4000 th item\n",
      "Here is the  4500 th item\n",
      "Here is the  5000 th item\n",
      "Here is the  5500 th item\n",
      "Here is the  6000 th item\n",
      "Here is the  6500 th item\n",
      "Here is the  7000 th item\n",
      "Here is the  7500 th item\n",
      "Here is the  8000 th item\n",
      "Here is the  8500 th item\n",
      "Here is the  9000 th item\n",
      "Here is the  9500 th item\n",
      "Here is the  10000 th item\n",
      "Here is the  10500 th item\n",
      "Here is the  11000 th item\n",
      "Here is the  11500 th item\n",
      "Here is the  12000 th item\n"
     ]
    }
   ],
   "source": [
    "# Cleaning the data\n",
    "for idx, item in enumerate(df_all.body):\n",
    "    df_all.body[idx] = re.sub('(\\\\n)',\"\",item)\n",
    "    if idx%500 == 0:\n",
    "        print 'Here is the ',idx,'th item'"
   ]
  },
  {
   "cell_type": "code",
   "execution_count": 217,
   "metadata": {
    "collapsed": false
   },
   "outputs": [
    {
     "name": "stderr",
     "output_type": "stream",
     "text": [
      "/Users/Yemre/anaconda/envs/dsi/lib/python2.7/site-packages/ipykernel/__main__.py:2: SettingWithCopyWarning: \n",
      "A value is trying to be set on a copy of a slice from a DataFrame\n",
      "\n",
      "See the caveats in the documentation: http://pandas.pydata.org/pandas-docs/stable/indexing.html#indexing-view-versus-copy\n",
      "  from ipykernel import kernelapp as app\n"
     ]
    },
    {
     "name": "stdout",
     "output_type": "stream",
     "text": [
      "Here is the  0 th item\n",
      "Here is the  500 th item\n",
      "Here is the  1000 th item\n",
      "Here is the  1500 th item\n",
      "Here is the  2000 th item\n",
      "Here is the  2500 th item\n",
      "Here is the  3000 th item\n",
      "Here is the  3500 th item\n",
      "Here is the  4000 th item\n",
      "Here is the  4500 th item\n",
      "Here is the  5000 th item\n",
      "Here is the  5500 th item\n",
      "Here is the  6000 th item\n",
      "Here is the  6500 th item\n",
      "Here is the  7000 th item\n",
      "Here is the  7500 th item\n",
      "Here is the  8000 th item\n",
      "Here is the  8500 th item\n",
      "Here is the  9000 th item\n",
      "Here is the  9500 th item\n",
      "Here is the  10000 th item\n",
      "Here is the  10500 th item\n",
      "Here is the  11000 th item\n",
      "Here is the  11500 th item\n",
      "Here is the  12000 th item\n"
     ]
    }
   ],
   "source": [
    "# Cleaning the data\n",
    "for idx, item in enumerate(df_all.head_clean):\n",
    "    df_all.head_clean[idx] = re.sub('(\\\\n)',\"\",item)\n",
    "    if idx%500 == 0:\n",
    "        print 'Here is the ',idx,'th item'"
   ]
  },
  {
   "cell_type": "code",
   "execution_count": null,
   "metadata": {
    "collapsed": true
   },
   "outputs": [],
   "source": [
    "#Cleaning the data\n",
    "\n",
    "slash_text = []\n",
    "slash_title = []\n",
    "for idx, item in enumerate(df_all.body):\n",
    "    \n",
    "    try:\n",
    "        df_all.body[idx] = re.sub('(\\\\n)',\"\",item)\n",
    "    except:\n",
    "        df_all.body[idx] = 'Dummy_Text'\n",
    "        wrong_text.append((idx,item))\n",
    "    \n",
    "    if idx%500 == 0:\n",
    "        print 'Here is the ',idx,'th item'\n",
    "        \n",
    "        \n",
    "for idx, item in enumerate(df_all.head_clean):\n",
    "    \n",
    "    try:\n",
    "        df_all.head_clean[idx] = re.sub('(\\\\n)',\"\",item)\n",
    "\n",
    "    except:\n",
    "        df_all.head_clean[idx] = 'Dummy_Title'\n",
    "        wrong_title.append((idx,item))\n",
    "    if idx%500 == 0:\n",
    "        print 'Here is the ',idx,'th item'"
   ]
  },
  {
   "cell_type": "code",
   "execution_count": 218,
   "metadata": {
    "collapsed": true
   },
   "outputs": [],
   "source": [
    "# Saving the clean data to csv file\n",
    "df_all.to_csv(\"/Users/Yemre/Desktop/NYT_Combined_Clean_APR_4_No_Slash.csv\")"
   ]
  },
  {
   "cell_type": "code",
   "execution_count": 219,
   "metadata": {
    "collapsed": true
   },
   "outputs": [],
   "source": [
    "tdf = TfidfVectorizer(stop_words='english',ngram_range=(1,2))\n",
    "vectorizer = tdf.fit(df_all.body)\n",
    "transformed_text = vectorizer.transform(df_all.body)\n",
    "transformed_title = vectorizer.transform(df_all.head_clean)"
   ]
  },
  {
   "cell_type": "code",
   "execution_count": 220,
   "metadata": {
    "collapsed": true
   },
   "outputs": [],
   "source": [
    "a = transformed_text.todense()"
   ]
  },
  {
   "cell_type": "code",
   "execution_count": 221,
   "metadata": {
    "collapsed": true
   },
   "outputs": [],
   "source": [
    "def get_tfidf_term_scores(feature_names):\n",
    "    '''Returns dictionary with term names and total tfidf scores for all terms in corpus'''\n",
    "    term_corpus_dict = {}\n",
    "    # iterate through term index and term \n",
    "    for term_ind, term in enumerate(feature_names):\n",
    "        term_name = feature_names[term_ind]\n",
    "        term_corpus_dict[term_name] = np.sum(transformed_title.T[term_ind].toarray())\n",
    "        \n",
    "    return term_corpus_dict"
   ]
  },
  {
   "cell_type": "code",
   "execution_count": 222,
   "metadata": {
    "collapsed": true
   },
   "outputs": [],
   "source": [
    "# list of features created by tfidf\n",
    "feature_names = tdf.get_feature_names()"
   ]
  },
  {
   "cell_type": "code",
   "execution_count": 225,
   "metadata": {
    "collapsed": false
   },
   "outputs": [],
   "source": [
    "term_corpus_dict = get_tfidf_term_scores(feature_names)"
   ]
  },
  {
   "cell_type": "code",
   "execution_count": 226,
   "metadata": {
    "collapsed": false
   },
   "outputs": [
    {
     "name": "stdout",
     "output_type": "stream",
     "text": [
      "Number of columns is:  1265557\n"
     ]
    }
   ],
   "source": [
    "print \"Number of columns is: \",len(term_corpus_dict.keys())"
   ]
  },
  {
   "cell_type": "code",
   "execution_count": 227,
   "metadata": {
    "collapsed": true
   },
   "outputs": [],
   "source": [
    "def get_sorted_tfidf_scores(term_corpus_dict):\n",
    "    '''Returns sort words from highest score to lowest score'''\n",
    "    # sort indices from words wit highest score to lowest score\n",
    "    sortedIndices = np.argsort( list(term_corpus_dict.values()))[::-1]\n",
    "    # move words and score out of dicts and into arrays\n",
    "    termNames = np.array(list(term_corpus_dict.keys()))\n",
    "    scores = np.array(list(term_corpus_dict.values()))\n",
    "    # sort words and scores\n",
    "    termNames = termNames[sortedIndices]\n",
    "    scores = scores[sortedIndices]\n",
    "    \n",
    "    return termNames, scores"
   ]
  },
  {
   "cell_type": "code",
   "execution_count": 228,
   "metadata": {
    "collapsed": true
   },
   "outputs": [],
   "source": [
    "termNames, scores = get_sorted_tfidf_scores(term_corpus_dict)"
   ]
  },
  {
   "cell_type": "code",
   "execution_count": 229,
   "metadata": {
    "collapsed": true
   },
   "outputs": [],
   "source": [
    "def getSelectScores(selectTerms):\n",
    "    '''Returns a list of tfidf scores for select terms that are passed in'''\n",
    "    score = [ term_corpus_dict[select_term]  for select_term in selectTerms]\n",
    "    return score"
   ]
  },
  {
   "cell_type": "code",
   "execution_count": 230,
   "metadata": {
    "collapsed": true
   },
   "outputs": [],
   "source": [
    "selectTerms = ['trump', 'clinton','islamic', 'russia' , 'women', 'obama', 'men',\n",
    "               'students', 'shooting', 'democrats', 'republicans', 'climate',\n",
    "               'education', 'environment', 'tech', 'minorities', 'carbon',\n",
    "               'muslim','ban']"
   ]
  },
  {
   "cell_type": "code",
   "execution_count": 231,
   "metadata": {
    "collapsed": true
   },
   "outputs": [],
   "source": [
    "selectScores = getSelectScores(selectTerms)"
   ]
  },
  {
   "cell_type": "code",
   "execution_count": 232,
   "metadata": {
    "collapsed": true
   },
   "outputs": [],
   "source": [
    "def plot_tfidf_scores(scores,termNames, selectScores, selectTerms,  n_words = 18):\n",
    "    '''Returns one plot for Importance of Top N Terms\n",
    "       and one plot for Importance of Select K Terms'''\n",
    "\n",
    "    # Create a figure instance, and the two subplots\n",
    "    fig = plt.figure(figsize = (14, 18))\n",
    "    \n",
    "    override = {'fontsize': 'large'}\n",
    "\n",
    "    fig.add_subplot(221)   #top left\n",
    "    n_words = 75\n",
    "    sb.barplot(x = scores[:n_words], y = termNames[:n_words]);\n",
    "    sb.plt.title(\"TFIDF - Importance of Top {0} Terms\".format(n_words));\n",
    "    sb.plt.xlabel(\"TFIDF Score\");\n",
    "\n",
    "    fig.add_subplot(222)   #top right \n",
    "    sb.barplot(x = selectScores, y = selectTerms);\n",
    "    sb.plt.title(\"TFIDF - Importance of Select {0} Terms\".format(len(selectTerms)));\n",
    "    sb.plt.xlabel(\"TFIDF Score\");\n",
    "    sb.plt.ylabel(override)"
   ]
  },
  {
   "cell_type": "code",
   "execution_count": 239,
   "metadata": {
    "collapsed": false
   },
   "outputs": [
    {
     "data": {
      "image/png": "[encoded data removed]",
      "text/plain": [
       "<matplotlib.figure.Figure at 0x111fb6190>"
      ]
     },
     "metadata": {},
     "output_type": "display_data"
    }
   ],
   "source": [
    "plot_tfidf_scores(scores, termNames, selectScores, selectTerms,  n_words = 18)"
   ]
  }
 ],
 "metadata": {
  "anaconda-cloud": {},
  "kernelspec": {
   "display_name": "Python [default]",
   "language": "python",
   "name": "python2"
  },
  "language_info": {
   "codemirror_mode": {
    "name": "ipython",
    "version": 2
   },
   "file_extension": ".py",
   "mimetype": "text/x-python",
   "name": "python",
   "nbconvert_exporter": "python",
   "pygments_lexer": "ipython2",
   "version": "2.7.12"
  }
 },
 "nbformat": 4,
 "nbformat_minor": 1
}
