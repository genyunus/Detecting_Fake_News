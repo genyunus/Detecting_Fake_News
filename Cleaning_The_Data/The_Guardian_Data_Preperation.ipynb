{
 "cells": [
  {
   "cell_type": "markdown",
   "metadata": {},
   "source": [
    "# Comibing The Articles From The Guardian, EDA and Cleaning"
   ]
  },
  {
   "cell_type": "markdown",
   "metadata": {
    "collapsed": false
   },
   "source": [
    "<img src='theguardian.jpg'>\n",
    "<img src='TGuard_WordCloud.jpg'>"
   ]
  },
  {
   "cell_type": "markdown",
   "metadata": {},
   "source": [
    "# Importing packages"
   ]
  },
  {
   "cell_type": "code",
   "execution_count": 31,
   "metadata": {
    "collapsed": true
   },
   "outputs": [],
   "source": [
    "import zipfile\n",
    "import os\n",
    "import json\n",
    "from pprint import pprint\n",
    "import pandas as pd\n",
    "import numpy as np\n",
    "import matplotlib.pyplot as plt\n",
    "import re\n",
    "%matplotlib inline\n",
    "%config InlineBackend.figure_format = 'retina'"
   ]
  },
  {
   "cell_type": "code",
   "execution_count": 2,
   "metadata": {
    "collapsed": false
   },
   "outputs": [],
   "source": [
    "# First file to start with\n",
    "df = pd.read_json(\"/Users/Yemre/the_guardian/theguardian-api-python/tempdata/articles/2015-12-31.json\" , encoding='utf-8')"
   ]
  },
  {
   "cell_type": "code",
   "execution_count": 3,
   "metadata": {
    "collapsed": false
   },
   "outputs": [
    {
     "name": "stdout",
     "output_type": "stream",
     "text": [
      "This is the  100 th file -->\n",
      "This is the  200 th file -->\n",
      "This is the  300 th file -->\n",
      "This is the  400 th file -->\n"
     ]
    }
   ],
   "source": [
    "# Combining all json files to a one data frame\n",
    "count = 0\n",
    "for filename in os.listdir(\"/Users/Yemre/the_guardian/theguardian-api-python/tempdata/news_of_interest/\"):\n",
    "    count+=1\n",
    "    if count>2:\n",
    "        file_path = \"/Users/Yemre/the_guardian/theguardian-api-python/tempdata/articles/\" + filename\n",
    "        df_ = pd.read_json(file_path , encoding='utf-8')\n",
    "        df = pd.concat(objs= [df,df_], axis=0,ignore_index=True)\n",
    "        \n",
    "        # To see the progress, print the number of the file\n",
    "        if count%100 ==0:\n",
    "            print \"This is the \",count,\"th file -->\""
   ]
  },
  {
   "cell_type": "code",
   "execution_count": 4,
   "metadata": {
    "collapsed": false
   },
   "outputs": [],
   "source": [
    "# Getting bodytext from the dataframe\n",
    "lst = []\n",
    "for i in range(df.shape[0]):\n",
    "    lst.append(df.fields[i][\"bodyText\"])"
   ]
  },
  {
   "cell_type": "code",
   "execution_count": 5,
   "metadata": {
    "collapsed": true
   },
   "outputs": [],
   "source": [
    "# Creating a column with bodytext\n",
    "df[\"bodyText\"] = lst"
   ]
  },
  {
   "cell_type": "code",
   "execution_count": 8,
   "metadata": {
    "collapsed": false
   },
   "outputs": [],
   "source": [
    "# Getting headlines from the dataframe\n",
    "lst_head = []\n",
    "for i in range(df.shape[0]):\n",
    "        lst_head.append(df.fields[i][\"headline\"])"
   ]
  },
  {
   "cell_type": "code",
   "execution_count": 9,
   "metadata": {
    "collapsed": false
   },
   "outputs": [],
   "source": [
    "# Creating a column with headline\n",
    "df[\"headline\"] = lst_head"
   ]
  },
  {
   "cell_type": "code",
   "execution_count": 11,
   "metadata": {
    "collapsed": false
   },
   "outputs": [],
   "source": [
    "# Getting rid of the embty bodies\n",
    "df = df[df.bodyText != \"\"]"
   ]
  },
  {
   "cell_type": "code",
   "execution_count": 13,
   "metadata": {
    "collapsed": false
   },
   "outputs": [
    {
     "data": {
      "text/plain": [
       "(129107, 12)"
      ]
     },
     "execution_count": 13,
     "metadata": {},
     "output_type": "execute_result"
    }
   ],
   "source": [
    "# Total Number of Articles\n",
    "df.shape"
   ]
  },
  {
   "cell_type": "code",
   "execution_count": 15,
   "metadata": {
    "collapsed": false
   },
   "outputs": [],
   "source": [
    "# Filtering articles based on topics\n",
    "df = df[(df.sectionName == 'US news') | (df.sectionName == 'Business') | (df.sectionName == 'Politics') | (df.sectionName == 'World news')]"
   ]
  },
  {
   "cell_type": "code",
   "execution_count": 17,
   "metadata": {
    "collapsed": false
   },
   "outputs": [
    {
     "name": "stdout",
     "output_type": "stream",
     "text": [
      "<class 'pandas.core.frame.DataFrame'>\n",
      "Int64Index: 27795 entries, 7 to 130903\n",
      "Data columns (total 12 columns):\n",
      "apiUrl                27795 non-null object\n",
      "fields                27795 non-null object\n",
      "id                    27795 non-null object\n",
      "isHosted              27795 non-null bool\n",
      "sectionId             27795 non-null object\n",
      "sectionName           27795 non-null object\n",
      "type                  27795 non-null object\n",
      "webPublicationDate    27795 non-null object\n",
      "webTitle              27795 non-null object\n",
      "webUrl                27795 non-null object\n",
      "bodyText              27795 non-null object\n",
      "headline              27795 non-null object\n",
      "dtypes: bool(1), object(11)\n",
      "memory usage: 2.6+ MB\n"
     ]
    }
   ],
   "source": [
    "# Getting to see the dataframe info (data type, non-null value etc.)\n",
    "df.info()"
   ]
  },
  {
   "cell_type": "code",
   "execution_count": 18,
   "metadata": {
    "collapsed": false
   },
   "outputs": [
    {
     "data": {
      "text/plain": [
       "Counter({u'Business': 6079,\n",
       "         u'Politics': 5777,\n",
       "         u'US news': 6707,\n",
       "         u'World news': 9232})"
      ]
     },
     "execution_count": 18,
     "metadata": {},
     "output_type": "execute_result"
    }
   ],
   "source": [
    "# To see how many articles in each category\n",
    "df.sectionName.value_counts()"
   ]
  },
  {
   "cell_type": "code",
   "execution_count": 19,
   "metadata": {
    "collapsed": false
   },
   "outputs": [
    {
     "data": {
      "text/html": [
       "<div>\n",
       "<table border=\"1\" class=\"dataframe\">\n",
       "  <thead>\n",
       "    <tr style=\"text-align: right;\">\n",
       "      <th></th>\n",
       "      <th>apiUrl</th>\n",
       "      <th>fields</th>\n",
       "      <th>id</th>\n",
       "      <th>isHosted</th>\n",
       "      <th>sectionId</th>\n",
       "      <th>sectionName</th>\n",
       "      <th>type</th>\n",
       "      <th>webPublicationDate</th>\n",
       "      <th>webTitle</th>\n",
       "      <th>webUrl</th>\n",
       "      <th>bodyText</th>\n",
       "      <th>headline</th>\n",
       "    </tr>\n",
       "  </thead>\n",
       "  <tbody>\n",
       "    <tr>\n",
       "      <th>7</th>\n",
       "      <td>https://content.guardianapis.com/business/2015...</td>\n",
       "      <td>{u'bodyText': u'Stock markets around the world...</td>\n",
       "      <td>business/2015/dec/31/value-of-gun-manufacturer...</td>\n",
       "      <td>False</td>\n",
       "      <td>business</td>\n",
       "      <td>Business</td>\n",
       "      <td>article</td>\n",
       "      <td>2015-12-31T21:33:28Z</td>\n",
       "      <td>Value of gun manufacturers' stocks almost doub...</td>\n",
       "      <td>https://www.theguardian.com/business/2015/dec/...</td>\n",
       "      <td>Stock markets around the world closed down on ...</td>\n",
       "      <td>Value of gun manufacturers' stocks almost doub...</td>\n",
       "    </tr>\n",
       "    <tr>\n",
       "      <th>16</th>\n",
       "      <td>https://content.guardianapis.com/us-news/2015/...</td>\n",
       "      <td>{u'bodyText': u'Young black men were nine time...</td>\n",
       "      <td>us-news/2015/dec/31/the-counted-police-killing...</td>\n",
       "      <td>False</td>\n",
       "      <td>us-news</td>\n",
       "      <td>US news</td>\n",
       "      <td>article</td>\n",
       "      <td>2015-12-31T20:00:20Z</td>\n",
       "      <td>Young black men killed by US police at highest...</td>\n",
       "      <td>https://www.theguardian.com/us-news/2015/dec/3...</td>\n",
       "      <td>Young black men were nine times more likely th...</td>\n",
       "      <td>Young black men killed by US police at highest...</td>\n",
       "    </tr>\n",
       "    <tr>\n",
       "      <th>17</th>\n",
       "      <td>https://content.guardianapis.com/us-news/2015/...</td>\n",
       "      <td>{u'bodyText': u'At the beginning of 2015, the ...</td>\n",
       "      <td>us-news/2015/dec/31/the-counted-killings-by-po...</td>\n",
       "      <td>False</td>\n",
       "      <td>us-news</td>\n",
       "      <td>US news</td>\n",
       "      <td>article</td>\n",
       "      <td>2015-12-31T20:00:20Z</td>\n",
       "      <td>The Guardian view on killings by US police: wh...</td>\n",
       "      <td>https://www.theguardian.com/us-news/2015/dec/3...</td>\n",
       "      <td>At the beginning of 2015, the Guardian began a...</td>\n",
       "      <td>The Guardian view on killings by US police: wh...</td>\n",
       "    </tr>\n",
       "    <tr>\n",
       "      <th>18</th>\n",
       "      <td>https://content.guardianapis.com/us-news/2015/...</td>\n",
       "      <td>{u'bodyText': u'Environmentalists will ramp up...</td>\n",
       "      <td>us-news/2015/dec/31/animal-themed-condoms-slow...</td>\n",
       "      <td>False</td>\n",
       "      <td>us-news</td>\n",
       "      <td>US news</td>\n",
       "      <td>article</td>\n",
       "      <td>2015-12-31T19:55:06Z</td>\n",
       "      <td>Animal-themed condoms aim to slow population g...</td>\n",
       "      <td>https://www.theguardian.com/us-news/2015/dec/3...</td>\n",
       "      <td>Environmentalists will ramp up their attempts ...</td>\n",
       "      <td>Animal-themed condoms aim to slow population g...</td>\n",
       "    </tr>\n",
       "    <tr>\n",
       "      <th>20</th>\n",
       "      <td>https://content.guardianapis.com/world/2015/de...</td>\n",
       "      <td>{u'bodyText': u'Letters written by a former ar...</td>\n",
       "      <td>world/2015/dec/31/archbishop-and-mps-wrote-in-...</td>\n",
       "      <td>False</td>\n",
       "      <td>world</td>\n",
       "      <td>World news</td>\n",
       "      <td>article</td>\n",
       "      <td>2015-12-31T19:45:22Z</td>\n",
       "      <td>Archbishop and MPs wrote in support of bishop ...</td>\n",
       "      <td>https://www.theguardian.com/world/2015/dec/31/...</td>\n",
       "      <td>Letters written by a former archbishop of Cant...</td>\n",
       "      <td>Archbishop and MPs wrote in support of bishop ...</td>\n",
       "    </tr>\n",
       "  </tbody>\n",
       "</table>\n",
       "</div>"
      ],
      "text/plain": [
       "                                               apiUrl  \\\n",
       "7   https://content.guardianapis.com/business/2015...   \n",
       "16  https://content.guardianapis.com/us-news/2015/...   \n",
       "17  https://content.guardianapis.com/us-news/2015/...   \n",
       "18  https://content.guardianapis.com/us-news/2015/...   \n",
       "20  https://content.guardianapis.com/world/2015/de...   \n",
       "\n",
       "                                               fields  \\\n",
       "7   {u'bodyText': u'Stock markets around the world...   \n",
       "16  {u'bodyText': u'Young black men were nine time...   \n",
       "17  {u'bodyText': u'At the beginning of 2015, the ...   \n",
       "18  {u'bodyText': u'Environmentalists will ramp up...   \n",
       "20  {u'bodyText': u'Letters written by a former ar...   \n",
       "\n",
       "                                                   id isHosted sectionId  \\\n",
       "7   business/2015/dec/31/value-of-gun-manufacturer...    False  business   \n",
       "16  us-news/2015/dec/31/the-counted-police-killing...    False   us-news   \n",
       "17  us-news/2015/dec/31/the-counted-killings-by-po...    False   us-news   \n",
       "18  us-news/2015/dec/31/animal-themed-condoms-slow...    False   us-news   \n",
       "20  world/2015/dec/31/archbishop-and-mps-wrote-in-...    False     world   \n",
       "\n",
       "   sectionName     type    webPublicationDate  \\\n",
       "7     Business  article  2015-12-31T21:33:28Z   \n",
       "16     US news  article  2015-12-31T20:00:20Z   \n",
       "17     US news  article  2015-12-31T20:00:20Z   \n",
       "18     US news  article  2015-12-31T19:55:06Z   \n",
       "20  World news  article  2015-12-31T19:45:22Z   \n",
       "\n",
       "                                             webTitle  \\\n",
       "7   Value of gun manufacturers' stocks almost doub...   \n",
       "16  Young black men killed by US police at highest...   \n",
       "17  The Guardian view on killings by US police: wh...   \n",
       "18  Animal-themed condoms aim to slow population g...   \n",
       "20  Archbishop and MPs wrote in support of bishop ...   \n",
       "\n",
       "                                               webUrl  \\\n",
       "7   https://www.theguardian.com/business/2015/dec/...   \n",
       "16  https://www.theguardian.com/us-news/2015/dec/3...   \n",
       "17  https://www.theguardian.com/us-news/2015/dec/3...   \n",
       "18  https://www.theguardian.com/us-news/2015/dec/3...   \n",
       "20  https://www.theguardian.com/world/2015/dec/31/...   \n",
       "\n",
       "                                             bodyText  \\\n",
       "7   Stock markets around the world closed down on ...   \n",
       "16  Young black men were nine times more likely th...   \n",
       "17  At the beginning of 2015, the Guardian began a...   \n",
       "18  Environmentalists will ramp up their attempts ...   \n",
       "20  Letters written by a former archbishop of Cant...   \n",
       "\n",
       "                                             headline  \n",
       "7   Value of gun manufacturers' stocks almost doub...  \n",
       "16  Young black men killed by US police at highest...  \n",
       "17  The Guardian view on killings by US police: wh...  \n",
       "18  Animal-themed condoms aim to slow population g...  \n",
       "20  Archbishop and MPs wrote in support of bishop ...  "
      ]
     },
     "execution_count": 19,
     "metadata": {},
     "output_type": "execute_result"
    }
   ],
   "source": [
    "# Overview for the dataframe\n",
    "df.head()"
   ]
  },
  {
   "cell_type": "code",
   "execution_count": 22,
   "metadata": {
    "collapsed": false
   },
   "outputs": [
    {
     "data": {
      "text/plain": [
       "(u'2015-12-31T00:01:21Z', u'2017-03-27T22:26:20Z')"
      ]
     },
     "execution_count": 22,
     "metadata": {},
     "output_type": "execute_result"
    }
   ],
   "source": [
    "# Publication data range\n",
    "df.webPublicationDate.min() ,df.webPublicationDate.max()"
   ]
  },
  {
   "cell_type": "code",
   "execution_count": 75,
   "metadata": {
    "collapsed": true
   },
   "outputs": [
    {
     "name": "stderr",
     "output_type": "stream",
     "text": [
      "/Users/Yemre/anaconda/envs/dsi/lib/python2.7/site-packages/ipykernel/__main__.py:2: SettingWithCopyWarning: \n",
      "A value is trying to be set on a copy of a slice from a DataFrame\n",
      "\n",
      "See the caveats in the documentation: http://pandas.pydata.org/pandas-docs/stable/indexing.html#indexing-view-versus-copy\n",
      "  from ipykernel import kernelapp as app\n"
     ]
    },
    {
     "name": "stdout",
     "output_type": "stream",
     "text": [
      "Here is the  0 th item\n",
      "Here is the  500 th item\n",
      "Here is the  1000 th item\n",
      "Here is the  1500 th item\n",
      "Here is the  2000 th item\n",
      "Here is the  2500 th item\n",
      "Here is the  3000 th item\n",
      "Here is the  3500 th item\n",
      "Here is the  4000 th item\n",
      "Here is the  4500 th item\n",
      "Here is the  5000 th item\n",
      "Here is the  5500 th item\n",
      "Here is the  6000 th item\n",
      "Here is the  6500 th item\n",
      "Here is the  7000 th item\n",
      "Here is the  7500 th item\n",
      "Here is the  8000 th item\n",
      "Here is the  8500 th item\n",
      "Here is the  9000 th item\n",
      "Here is the  9500 th item\n",
      "Here is the  10000 th item\n",
      "Here is the  10500 th item\n",
      "Here is the  11000 th item\n",
      "Here is the  11500 th item\n",
      "Here is the  12000 th item\n",
      "Here is the  12500 th item\n",
      "Here is the  13000 th item\n",
      "Here is the  13500 th item\n",
      "Here is the  14000 th item\n",
      "Here is the  14500 th item\n",
      "Here is the  15000 th item\n",
      "Here is the  15500 th item\n",
      "Here is the  16000 th item\n",
      "Here is the  16500 th item\n",
      "Here is the  17000 th item\n",
      "Here is the  17500 th item\n",
      "Here is the  18000 th item\n",
      "Here is the  18500 th item\n",
      "Here is the  19000 th item\n",
      "Here is the  19500 th item\n",
      "Here is the  20000 th item\n",
      "Here is the  20500 th item\n",
      "Here is the  21000 th item\n",
      "Here is the  21500 th item\n",
      "Here is the  22000 th item\n",
      "Here is the  22500 th item\n",
      "Here is the  23000 th item\n",
      "Here is the  23500 th item\n",
      "Here is the  24000 th item\n",
      "Here is the  24500 th item\n",
      "Here is the  25000 th item\n",
      "Here is the  25500 th item\n",
      "Here is the  26000 th item\n",
      "Here is the  26500 th item\n",
      "Here is the  27000 th item\n",
      "Here is the  27500 th item\n"
     ]
    }
   ],
   "source": [
    "for idx,item in enumerate(df_test.bodyText):\n",
    "    df_test.bodyText[idx] = re.sub('[^\\x00-\\x7F]+', \"\", item)\n",
    "    if idx%500 == 0:\n",
    "        print 'Here is the ',idx,'th item'"
   ]
  },
  {
   "cell_type": "code",
   "execution_count": 76,
   "metadata": {
    "collapsed": true
   },
   "outputs": [
    {
     "name": "stderr",
     "output_type": "stream",
     "text": [
      "/Users/Yemre/anaconda/envs/dsi/lib/python2.7/site-packages/ipykernel/__main__.py:2: SettingWithCopyWarning: \n",
      "A value is trying to be set on a copy of a slice from a DataFrame\n",
      "\n",
      "See the caveats in the documentation: http://pandas.pydata.org/pandas-docs/stable/indexing.html#indexing-view-versus-copy\n",
      "  from ipykernel import kernelapp as app\n"
     ]
    },
    {
     "name": "stdout",
     "output_type": "stream",
     "text": [
      "Here is the  0 th item\n",
      "Here is the  500 th item\n",
      "Here is the  1000 th item\n",
      "Here is the  1500 th item\n",
      "Here is the  2000 th item\n",
      "Here is the  2500 th item\n",
      "Here is the  3000 th item\n",
      "Here is the  3500 th item\n",
      "Here is the  4000 th item\n",
      "Here is the  4500 th item\n",
      "Here is the  5000 th item\n",
      "Here is the  5500 th item\n",
      "Here is the  6000 th item\n",
      "Here is the  6500 th item\n",
      "Here is the  7000 th item\n",
      "Here is the  7500 th item\n",
      "Here is the  8000 th item\n",
      "Here is the  8500 th item\n",
      "Here is the  9000 th item\n",
      "Here is the  9500 th item\n",
      "Here is the  10000 th item\n",
      "Here is the  10500 th item\n",
      "Here is the  11000 th item\n",
      "Here is the  11500 th item\n",
      "Here is the  12000 th item\n",
      "Here is the  12500 th item\n",
      "Here is the  13000 th item\n",
      "Here is the  13500 th item\n",
      "Here is the  14000 th item\n",
      "Here is the  14500 th item\n",
      "Here is the  15000 th item\n",
      "Here is the  15500 th item\n",
      "Here is the  16000 th item\n",
      "Here is the  16500 th item\n",
      "Here is the  17000 th item\n",
      "Here is the  17500 th item\n",
      "Here is the  18000 th item\n",
      "Here is the  18500 th item\n",
      "Here is the  19000 th item\n",
      "Here is the  19500 th item\n",
      "Here is the  20000 th item\n",
      "Here is the  20500 th item\n",
      "Here is the  21000 th item\n",
      "Here is the  21500 th item\n",
      "Here is the  22000 th item\n",
      "Here is the  22500 th item\n",
      "Here is the  23000 th item\n",
      "Here is the  23500 th item\n",
      "Here is the  24000 th item\n",
      "Here is the  24500 th item\n",
      "Here is the  25000 th item\n",
      "Here is the  25500 th item\n",
      "Here is the  26000 th item\n",
      "Here is the  26500 th item\n",
      "Here is the  27000 th item\n",
      "Here is the  27500 th item\n"
     ]
    }
   ],
   "source": [
    "for idx,item in enumerate(df_test.headline):\n",
    "    df_test.headline[idx] = re.sub('[^\\x00-\\x7F]+', \"\", item)\n",
    "    if idx%500 == 0:\n",
    "        print 'Here is the ',idx,'th item'"
   ]
  },
  {
   "cell_type": "code",
   "execution_count": 79,
   "metadata": {
    "collapsed": false,
    "scrolled": true
   },
   "outputs": [
    {
     "name": "stderr",
     "output_type": "stream",
     "text": [
      "/Users/Yemre/anaconda/envs/dsi/lib/python2.7/site-packages/ipykernel/__main__.py:2: SettingWithCopyWarning: \n",
      "A value is trying to be set on a copy of a slice from a DataFrame\n",
      "\n",
      "See the caveats in the documentation: http://pandas.pydata.org/pandas-docs/stable/indexing.html#indexing-view-versus-copy\n",
      "  from ipykernel import kernelapp as app\n"
     ]
    },
    {
     "name": "stdout",
     "output_type": "stream",
     "text": [
      "Here is the  0 th item\n",
      "Here is the  500 th item\n",
      "Here is the  1000 th item\n",
      "Here is the  1500 th item\n",
      "Here is the  2000 th item\n",
      "Here is the  2500 th item\n",
      "Here is the  3000 th item\n",
      "Here is the  3500 th item\n",
      "Here is the  4000 th item\n",
      "Here is the  4500 th item\n",
      "Here is the  5000 th item\n",
      "Here is the  5500 th item\n",
      "Here is the  6000 th item\n",
      "Here is the  6500 th item\n",
      "Here is the  7000 th item\n",
      "Here is the  7500 th item\n",
      "Here is the  8000 th item\n",
      "Here is the  8500 th item\n",
      "Here is the  9000 th item\n",
      "Here is the  9500 th item\n",
      "Here is the  10000 th item\n",
      "Here is the  10500 th item\n",
      "Here is the  11000 th item\n",
      "Here is the  11500 th item\n",
      "Here is the  12000 th item\n",
      "Here is the  12500 th item\n",
      "Here is the  13000 th item\n",
      "Here is the  13500 th item\n",
      "Here is the  14000 th item\n",
      "Here is the  14500 th item\n",
      "Here is the  15000 th item\n",
      "Here is the  15500 th item\n",
      "Here is the  16000 th item\n",
      "Here is the  16500 th item\n",
      "Here is the  17000 th item\n",
      "Here is the  17500 th item\n",
      "Here is the  18000 th item\n",
      "Here is the  18500 th item\n",
      "Here is the  19000 th item\n",
      "Here is the  19500 th item\n",
      "Here is the  20000 th item\n",
      "Here is the  20500 th item\n",
      "Here is the  21000 th item\n",
      "Here is the  21500 th item\n",
      "Here is the  22000 th item\n",
      "Here is the  22500 th item\n",
      "Here is the  23000 th item\n",
      "Here is the  23500 th item\n",
      "Here is the  24000 th item\n",
      "Here is the  24500 th item\n",
      "Here is the  25000 th item\n",
      "Here is the  25500 th item\n",
      "Here is the  26000 th item\n",
      "Here is the  26500 th item\n",
      "Here is the  27000 th item\n",
      "Here is the  27500 th item\n"
     ]
    }
   ],
   "source": [
    "for idx, item in enumerate(df_test.bodyText):\n",
    "    df_test.bodyText[idx] = re.sub('(\\\\n)',\"\",item)\n",
    "    if idx%500 == 0:\n",
    "        print 'Here is the ',idx,'th item'"
   ]
  },
  {
   "cell_type": "code",
   "execution_count": 80,
   "metadata": {
    "collapsed": false,
    "scrolled": true
   },
   "outputs": [
    {
     "name": "stderr",
     "output_type": "stream",
     "text": [
      "/Users/Yemre/anaconda/envs/dsi/lib/python2.7/site-packages/ipykernel/__main__.py:2: SettingWithCopyWarning: \n",
      "A value is trying to be set on a copy of a slice from a DataFrame\n",
      "\n",
      "See the caveats in the documentation: http://pandas.pydata.org/pandas-docs/stable/indexing.html#indexing-view-versus-copy\n",
      "  from ipykernel import kernelapp as app\n"
     ]
    },
    {
     "name": "stdout",
     "output_type": "stream",
     "text": [
      "Here is the  0 th item\n",
      "Here is the  500 th item\n",
      "Here is the  1000 th item\n",
      "Here is the  1500 th item\n",
      "Here is the  2000 th item\n",
      "Here is the  2500 th item\n",
      "Here is the  3000 th item\n",
      "Here is the  3500 th item\n",
      "Here is the  4000 th item\n",
      "Here is the  4500 th item\n",
      "Here is the  5000 th item\n",
      "Here is the  5500 th item\n",
      "Here is the  6000 th item\n",
      "Here is the  6500 th item\n",
      "Here is the  7000 th item\n",
      "Here is the  7500 th item\n",
      "Here is the  8000 th item\n",
      "Here is the  8500 th item\n",
      "Here is the  9000 th item\n",
      "Here is the  9500 th item\n",
      "Here is the  10000 th item\n",
      "Here is the  10500 th item\n",
      "Here is the  11000 th item\n",
      "Here is the  11500 th item\n",
      "Here is the  12000 th item\n",
      "Here is the  12500 th item\n",
      "Here is the  13000 th item\n",
      "Here is the  13500 th item\n",
      "Here is the  14000 th item\n",
      "Here is the  14500 th item\n",
      "Here is the  15000 th item\n",
      "Here is the  15500 th item\n",
      "Here is the  16000 th item\n",
      "Here is the  16500 th item\n",
      "Here is the  17000 th item\n",
      "Here is the  17500 th item\n",
      "Here is the  18000 th item\n",
      "Here is the  18500 th item\n",
      "Here is the  19000 th item\n",
      "Here is the  19500 th item\n",
      "Here is the  20000 th item\n",
      "Here is the  20500 th item\n",
      "Here is the  21000 th item\n",
      "Here is the  21500 th item\n",
      "Here is the  22000 th item\n",
      "Here is the  22500 th item\n",
      "Here is the  23000 th item\n",
      "Here is the  23500 th item\n",
      "Here is the  24000 th item\n",
      "Here is the  24500 th item\n",
      "Here is the  25000 th item\n",
      "Here is the  25500 th item\n",
      "Here is the  26000 th item\n",
      "Here is the  26500 th item\n",
      "Here is the  27000 th item\n",
      "Here is the  27500 th item\n"
     ]
    }
   ],
   "source": [
    "for idx, item in enumerate(df_test.headline):\n",
    "    df_test.headline[idx] = re.sub('(\\\\n)',\"\",item)\n",
    "    if idx%500 == 0:\n",
    "        print 'Here is the ',idx,'th item'"
   ]
  },
  {
   "cell_type": "code",
   "execution_count": 81,
   "metadata": {
    "collapsed": true
   },
   "outputs": [],
   "source": [
    "# Saving the cleaned data into csv file\n",
    "df_test.to_csv(\"/Users/Yemre/Desktop/Clean_TheGuardian_Combined_No_Slash.csv\")"
   ]
  },
  {
   "cell_type": "code",
   "execution_count": 3,
   "metadata": {
    "collapsed": true
   },
   "outputs": [],
   "source": [
    "# Reading the cleaned data into data frame\n",
    "df_test = pd.read_csv(\"/Users/Yemre/Desktop/Clean_TheGuardian_Combined_No_Slash.csv\")"
   ]
  },
  {
   "cell_type": "code",
   "execution_count": 4,
   "metadata": {
    "collapsed": false
   },
   "outputs": [
    {
     "name": "stdout",
     "output_type": "stream",
     "text": [
      "<class 'pandas.core.frame.DataFrame'>\n",
      "RangeIndex: 27795 entries, 0 to 27794\n",
      "Data columns (total 14 columns):\n",
      "Unnamed: 0            27795 non-null int64\n",
      "Unnamed: 0.1          27795 non-null int64\n",
      "apiUrl                27795 non-null object\n",
      "fields                27795 non-null object\n",
      "id                    27795 non-null object\n",
      "isHosted              27795 non-null bool\n",
      "sectionId             27795 non-null object\n",
      "sectionName           27795 non-null object\n",
      "type                  27795 non-null object\n",
      "webPublicationDate    27795 non-null object\n",
      "webTitle              27795 non-null object\n",
      "webUrl                27795 non-null object\n",
      "bodyText              27795 non-null object\n",
      "headline              27795 non-null object\n",
      "dtypes: bool(1), int64(2), object(11)\n",
      "memory usage: 2.8+ MB\n"
     ]
    }
   ],
   "source": [
    "df_test.info()"
   ]
  },
  {
   "cell_type": "code",
   "execution_count": 24,
   "metadata": {
    "collapsed": false
   },
   "outputs": [],
   "source": [
    "sum_ = 0\n",
    "max_ = 0\n",
    "min_ = 9999\n",
    "for item in df.bodyText:\n",
    "    sum_+=len(item)\n",
    "    if len(item)>max_:\n",
    "        max_ = len(item)\n",
    "    if len(item)<min:\n",
    "        min_ = len(item)"
   ]
  },
  {
   "cell_type": "code",
   "execution_count": 30,
   "metadata": {
    "collapsed": false
   },
   "outputs": [
    {
     "name": "stdout",
     "output_type": "stream",
     "text": [
      "Min number of word count 4967 \n",
      "Max number of word count 174383 \n",
      "Total number of word count 165783149\n"
     ]
    }
   ],
   "source": [
    "print \"Min number of word count\",min_ ,\"\\nMax number of word count\",max_,\"\\nTotal number of word count\", sum_"
   ]
  },
  {
   "cell_type": "markdown",
   "metadata": {},
   "source": [
    "# Word Clound From The Guardian Dataset\n",
    "\n",
    "<img src='TGuard_WordCloud.jpg'>"
   ]
  },
  {
   "cell_type": "code",
   "execution_count": null,
   "metadata": {
    "collapsed": true
   },
   "outputs": [],
   "source": []
  }
 ],
 "metadata": {
  "anaconda-cloud": {},
  "kernelspec": {
   "display_name": "Python [conda env:dsi]",
   "language": "python",
   "name": "conda-env-dsi-py"
  },
  "language_info": {
   "codemirror_mode": {
    "name": "ipython",
    "version": 2
   },
   "file_extension": ".py",
   "mimetype": "text/x-python",
   "name": "python",
   "nbconvert_exporter": "python",
   "pygments_lexer": "ipython2",
   "version": "2.7.12"
  }
 },
 "nbformat": 4,
 "nbformat_minor": 1
}
